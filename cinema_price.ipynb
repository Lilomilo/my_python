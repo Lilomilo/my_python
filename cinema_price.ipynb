{
 "cells": [
  {
   "cell_type": "code",
   "execution_count": 7,
   "metadata": {},
   "outputs": [
    {
     "name": "stdin",
     "output_type": "stream",
     "text": [
      "Добрый день! Выберите фильм: \n",
      " 1917\n",
      "Сегодня или завтра? \n",
      " Завтра\n",
      "Укажите время сеанса в часах без разделителей \n",
      " 16\n",
      "Сколько билетов? \n",
      " 21\n"
     ]
    },
    {
     "data": {
      "text/plain": [
       "5880.0"
      ]
     },
     "execution_count": 7,
     "metadata": {},
     "output_type": "execute_result"
    }
   ],
   "source": [
    "##считаю, что скидки не суммируются. То есть либо 5%, либо 20%, либо 0%. Считаю только для двух фильмов - Паразиты и 1917, ост. по аналогии.\n",
    "\n",
    "name = input('Добрый день! Выберите фильм: \\n')\n",
    "date = input('Сегодня или завтра? \\n')\n",
    "time = int(input('Укажите время сеанса в часах без разделителей \\n'))\n",
    "quantity = int(input('Сколько билетов? \\n'))\n",
    "\n",
    "def price(name, date, time, quantity):\n",
    "    if quantity >= 20:\n",
    "        if name[1:3] == 'ар':\n",
    "            if time == 12:\n",
    "                return(quantity*250*0.8)\n",
    "            elif time == 16:\n",
    "                return(quantity*350*0.8)\n",
    "            elif time == 20:\n",
    "                return(quantity*450*0.8)\n",
    "            else:\n",
    "                print('Что-то не так')\n",
    "        elif name[1:3] == '91':\n",
    "            if time == 10:\n",
    "                return(quantity*250*0.8)\n",
    "            elif time == 13:\n",
    "                return(quantity*350*0.8)\n",
    "            elif time == 16:\n",
    "                return(quantity*350*0.8)\n",
    "            else:\n",
    "                print('Что-то не так')\n",
    "        else:\n",
    "            print('Что-то пошло не так')\n",
    "    elif date[1:3] == 'ав':\n",
    "        if name[1:3] == 'ар':\n",
    "            if time == 12:\n",
    "                return(quantity*250*0.95)\n",
    "            elif time == 16:\n",
    "                return(quantity*350*0.95)\n",
    "            elif time == 20:\n",
    "                return(quantity*450*0.95)\n",
    "            else:\n",
    "                print('Что-то не так')\n",
    "        elif name[1:3] == '91':\n",
    "            if time == 10:\n",
    "                return(quantity*250*0.95)\n",
    "            elif time == 13:\n",
    "                return(quantity*350*0.95)\n",
    "            elif time == 16:\n",
    "                return(quantity*350*0.95)\n",
    "            else:\n",
    "                print('Что-то не так')\n",
    "        else:\n",
    "            print('Что-то пошло не так')\n",
    "    elif date[1:3] == 'ег':\n",
    "        if name[1:3] == 'ар':\n",
    "            if time == 12:\n",
    "                return(quantity*250)\n",
    "            elif time == 16:\n",
    "                return(quantity*350)\n",
    "            elif time == 20:\n",
    "                return(quantity*450)\n",
    "            else:\n",
    "                print('Что-то не так')\n",
    "        elif name[1:3] == '91':\n",
    "            if time == 10:\n",
    "                return(quantity*250)\n",
    "            elif time == 13:\n",
    "                return(quantity*350)\n",
    "            elif time == 16:\n",
    "                return(quantity*350)\n",
    "            else:\n",
    "                print('Что-то не так')\n",
    "        else:\n",
    "            print('Что-то пошло не так')\n",
    "    else:\n",
    "        print('Что-то пошло не так')\n",
    "\n",
    "price(name, date, time, quantity)"
   ]
  },
  {
   "cell_type": "code",
   "execution_count": null,
   "metadata": {},
   "outputs": [],
   "source": []
  }
 ],
 "metadata": {
  "kernelspec": {
   "display_name": "Python 3",
   "language": "python",
   "name": "python3"
  },
  "language_info": {
   "codemirror_mode": {
    "name": "ipython",
    "version": 3
   },
   "file_extension": ".py",
   "mimetype": "text/x-python",
   "name": "python",
   "nbconvert_exporter": "python",
   "pygments_lexer": "ipython3",
   "version": "3.7.4"
  }
 },
 "nbformat": 4,
 "nbformat_minor": 4
}
