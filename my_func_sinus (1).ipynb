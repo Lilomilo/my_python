{
 "cells": [
  {
   "cell_type": "code",
   "execution_count": 6,
   "metadata": {},
   "outputs": [
    {
     "name": "stdin",
     "output_type": "stream",
     "text": [
      "Введите значение x:  0.3\n"
     ]
    },
    {
     "name": "stdout",
     "output_type": "stream",
     "text": [
      "f(x) =  0.29552020666133955\n"
     ]
    }
   ],
   "source": [
    "import math\n",
    "\n",
    "x = float(input('Введите значение x: '))\n",
    "\n",
    "def fun2(x):\n",
    "    if 0.2 <= x <= 0.9:\n",
    "        return (math.sin(x))\n",
    "    else:\n",
    "        return(1.0)\n",
    "    \n",
    "print('f(x) = ', fun2(x))"
   ]
  },
  {
   "cell_type": "code",
   "execution_count": null,
   "metadata": {},
   "outputs": [],
   "source": []
  }
 ],
 "metadata": {
  "kernelspec": {
   "display_name": "Python 3",
   "language": "python",
   "name": "python3"
  },
  "language_info": {
   "codemirror_mode": {
    "name": "ipython",
    "version": 3
   },
   "file_extension": ".py",
   "mimetype": "text/x-python",
   "name": "python",
   "nbconvert_exporter": "python",
   "pygments_lexer": "ipython3",
   "version": "3.7.4"
  }
 },
 "nbformat": 4,
 "nbformat_minor": 4
}
