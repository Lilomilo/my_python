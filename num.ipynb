{
 "cells": [
  {
   "cell_type": "code",
   "execution_count": 51,
   "metadata": {},
   "outputs": [
    {
     "name": "stdout",
     "output_type": "stream",
     "text": [
      "[3.1604, 3.162, 3.1459, 1706.0, 1737.0]\n",
      "5\n",
      "3452.4683\n",
      "1737.0\n"
     ]
    }
   ],
   "source": [
    "s = '''В разные эпохи и у разных народов число Пи имело разное значение. Например, в\n",
    "Древнем Египте оно равнялось 3.1604, у индусов оно приобрело значение 3.162, китайцы\n",
    "пользовались числом, равным 3.1459 Буквенное обозначение число Пи получило только\n",
    "в 1706 году – оно происходит от начальных букв двух греческих слов, означающих\n",
    "окружность и периметр. Буквой π число наделил математик Джонс, а прочно вошла в\n",
    "математику она уже в 1737 году.'''\n",
    "\n",
    "#Напечатать все имеющиеся в тексте числа, определить их количество, сумму и найти\n",
    "#максимальное\n",
    "\n",
    "d = [float(i.replace(',', ''))for i in s.split(\" \") if i.replace('.', '').replace(',', '').isdigit()]\n",
    "print(d)\n",
    "\n",
    "print(len(d))\n",
    "print(sum(d))\n",
    "print(max(d))"
   ]
  },
  {
   "cell_type": "code",
   "execution_count": null,
   "metadata": {},
   "outputs": [],
   "source": []
  },
  {
   "cell_type": "code",
   "execution_count": 18,
   "metadata": {},
   "outputs": [
    {
     "name": "stdout",
     "output_type": "stream",
     "text": [
      "Текст содержит следующие числа: 3.1459, 1706.0, 1737.0\n",
      "Количество чисел в тексте: 3\n",
      "Сумма всех чисел в тексте: 3446.1459\n",
      "Максимальное число: 1737.0\n"
     ]
    }
   ],
   "source": [
    "s = '''В разные эпохи и у разных народов число Пи имело разное значение. Например, в\n",
    "Древнем Египте оно равнялось 3.1604, у индусов оно приобрело значение 3.162, китайцы\n",
    "пользовались числом, равным 3.1459 Буквенное обозначение число Пи получило только\n",
    "в 1706 году – оно происходит от начальных букв двух греческих слов, означающих\n",
    "окружность и периметр. Буквой π число наделил математик Джонс, а прочно вошла в\n",
    "математику она уже в 1737 году.'''\n",
    "\n",
    "numeric_array = [float(i) for i in s.split(\" \") if i.replace(\".\",\"\").replace(\"-\",\"\").isdigit()]\n",
    "\n",
    "\n",
    "print(f'''Текст содержит следующие числа: {', '.join(str(i) for i in numeric_array)}\n",
    "Количество чисел в тексте: {len(numeric_array)}\n",
    "Сумма всех чисел в тексте: {sum(numeric_array)}\n",
    "Максимальное число: {max(numeric_array)}''')\n"
   ]
  },
  {
   "cell_type": "code",
   "execution_count": null,
   "metadata": {},
   "outputs": [],
   "source": []
  }
 ],
 "metadata": {
  "kernelspec": {
   "display_name": "Python 3",
   "language": "python",
   "name": "python3"
  },
  "language_info": {
   "codemirror_mode": {
    "name": "ipython",
    "version": 3
   },
   "file_extension": ".py",
   "mimetype": "text/x-python",
   "name": "python",
   "nbconvert_exporter": "python",
   "pygments_lexer": "ipython3",
   "version": "3.7.4"
  }
 },
 "nbformat": 4,
 "nbformat_minor": 4
}
