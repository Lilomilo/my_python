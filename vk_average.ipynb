{
 "cells": [
  {
   "cell_type": "code",
   "execution_count": 20,
   "metadata": {},
   "outputs": [
    {
     "name": "stdout",
     "output_type": "stream",
     "text": [
      "[1190, 816, 778, 734, 686, 558, 314, 311, 311, 301, 282, 280, 270, 268, 254, 248, 228, 219, 200, 184, 170, 168, 149, 135, 130, 127, 117, 114, 112, 101, 83, 81, 75, 71, 68, 52, 48, 38]\n",
      "['Записал видео о Python &#128519;<br...', 'Друзья, по многочисленным просьбам ...', 'Зачем экономисту Python? &#129300;О...', 'До встречи в новом году! &#1280...', 'Полный курс \"Python: основы пр...', 'Учел все ваши пожелания и подготови...', 'Это просто праздник какой-то! &...', 'Заключительные уроки по основам язы...', 'Первый набор курса \"Язык прогр...', '- Не знаешь, чем заняться в пятницу...', 'Почет и уважение сообществам PyLadi...', 'Python will conquer the world&#1281...', 'Отзыв &#129392;', 'Несмотря на пасмурную погоду и неож...', 'На старт, внимание..... пятый урок ...', 'Продолжаем #python_марафон &#128526...', 'Вопрос возник в связи с началом нов...', 'В нашем опросе лидируют нейронные с...', 'Нужна ли магия, чтобы попасть в IT&...', 'Обычно на занятиях обходил стороной...', 'Хочешь научиться программировать на...', 'Python is for Girls &#128077;&#1279...', 'Запускаю небольшой опрос, чтобы опр...', 'Первый выпуск курса \"Python: о...', 'Второй выпуск \"Python: основы ...', 'Впервые в школе интернет-технологий...', 'Вакансия Python-программиста в Юлма...', 'spbdsm: St. Petersburg Data Science...', 'Впервые побывал на PiterPy Meetup. ...', 'Вчера в Библиотеке Гоголя по пригла...', 'Интервью Гвидо, в котором он расска...', '10 мая в 15:00 в Библиотеке Гоголя ...', 'https://vk.com/@init_python-nashi-d...', 'Немного истории)', 'Современное образование — затыкание...', 'An introduction to the lambda calcu...', 'Kite integrates with your code edit...', '10 мая в 16:30 (Библиотека Гоголя) ...']\n"
     ]
    }
   ],
   "source": [
    "import csv\n",
    "\n",
    "with open('vk_group_reach.stat', 'r', encoding = 'utf8') as file:\n",
    "    lines = csv.reader(file)\n",
    " \n",
    "    reach = dict()\n",
    "    \n",
    "    for i in lines:\n",
    "        if i[0] == 'Дата':\n",
    "            continue\n",
    "        else:\n",
    "            reach[i[2]] = int(i[7])\n",
    "            \n",
    "    print(sorted(reach.values(), reverse = True))\n",
    "    print(sorted(reach, key = reach.get, reverse = True))"
   ]
  },
  {
   "cell_type": "code",
   "execution_count": 22,
   "metadata": {},
   "outputs": [
    {
     "name": "stdout",
     "output_type": "stream",
     "text": [
      "['2019', '05', '02 12:27']\n"
     ]
    }
   ],
   "source": [
    "import csv\n",
    "\n",
    "with open('vk_group_reach.stat', 'r', encoding = 'utf8') as file:\n",
    "    lines = csv.reader(file)\n",
    "\n",
    "    stata = dict()\n",
    "\n",
    "    for i in lines:\n",
    "        if i[0] == 'Дата':\n",
    "            continue\n",
    "        else:\n",
    "            stata = i[0].split('-')\n",
    "        \n",
    "    print(stata)"
   ]
  },
  {
   "cell_type": "code",
   "execution_count": null,
   "metadata": {},
   "outputs": [],
   "source": []
  },
  {
   "cell_type": "code",
   "execution_count": null,
   "metadata": {},
   "outputs": [],
   "source": []
  },
  {
   "cell_type": "code",
   "execution_count": null,
   "metadata": {},
   "outputs": [],
   "source": []
  },
  {
   "cell_type": "code",
   "execution_count": 57,
   "metadata": {},
   "outputs": [
    {
     "name": "stdout",
     "output_type": "stream",
     "text": [
      "{'02': 1, '12': 2, '11': 2, '10': 5, '09': 7, '08': 8, '06': 1, '05': 12}\n",
      "1.0\n"
     ]
    }
   ],
   "source": [
    "import csv\n",
    "import collections\n",
    "\n",
    "with open('vk_group_reach.stat', 'r', encoding = 'utf8') as file:\n",
    "    lines = csv.reader(file)\n",
    "\n",
    "    stata = []\n",
    "\n",
    "    for i in lines:\n",
    "        if i[0] == 'Дата':\n",
    "            continue\n",
    "        else:\n",
    "            stata.append(i[0].split('-')[1])\n",
    "    \n",
    "    count = collections.Counter(stata)\n",
    "    print(dict(count))\n",
    "    \n",
    "    print(sum(count.values())/len(stata))\n"
   ]
  },
  {
   "cell_type": "code",
   "execution_count": null,
   "metadata": {},
   "outputs": [],
   "source": []
  }
 ],
 "metadata": {
  "kernelspec": {
   "display_name": "Python 3",
   "language": "python",
   "name": "python3"
  },
  "language_info": {
   "codemirror_mode": {
    "name": "ipython",
    "version": 3
   },
   "file_extension": ".py",
   "mimetype": "text/x-python",
   "name": "python",
   "nbconvert_exporter": "python",
   "pygments_lexer": "ipython3",
   "version": "3.7.4"
  }
 },
 "nbformat": 4,
 "nbformat_minor": 4
}
