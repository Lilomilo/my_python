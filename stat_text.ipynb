{
 "cells": [
  {
   "cell_type": "code",
   "execution_count": 14,
   "metadata": {},
   "outputs": [
    {
     "name": "stdout",
     "output_type": "stream",
     "text": [
      "['No one is unaware of the name of that famous English shipowner, Cunard.\\n', 'In 1840 this shrewd industrialist founded a postal service between Liverpool and Halifax, featuring three wooden ships with 400-horsepower paddle wheels and a burden of 1,162 metric tons.\\n', \"Eight years later, the company's assets were increased by four 650-horsepower ships at 1,820 metric tons, and in two more years, by two other vessels of still greater power and tonnage.\\n\", 'In 1853 the Cunard Co., whose mail-carrying charter had just been renewed, successively added to its assets the Arabia, the Persia, the China, the Scotia, the Java, and the Russia, all ships of top speed and, after the Great Eastern, the biggest ever to plow the seas.\\n', 'So in 1867 this company owned twelve ships, eight with paddle wheels and four with propellers.\\n', 'If I give these highly condensed details, it is so everyone can fully understand the importance of this maritime transportation company, known the world over for its shrewd management.\\n', 'No transoceanic navigational undertaking has been conducted with more ability, no business dealings have been crowned with greater success.\\n', 'In twenty-six years Cunard ships have made 2,000 Atlantic crossings without so much as a voyage canceled, a delay recorded, a man, a craft, or even a letter lost.\\n', 'Accordingly, despite strong competition from France, passengers still choose the Cunard line in preference to all others, as can be seen in a recent survey of official documents.\\n', 'Given this, no one will be astonished at the uproar provoked by this accident involving one of its finest steamers.\\n']\n"
     ]
    }
   ],
   "source": [
    "with open('text.txt', 'r', encoding = 'utf8') as file:\n",
    "    lines = file.readlines()\n",
    "    print(lines)"
   ]
  },
  {
   "cell_type": "code",
   "execution_count": 15,
   "metadata": {},
   "outputs": [
    {
     "name": "stdout",
     "output_type": "stream",
     "text": [
      "26.0\n"
     ]
    }
   ],
   "source": [
    "slova = dict()\n",
    "    \n",
    "for i in lines:\n",
    "    slova[i] = len(i.split())\n",
    "    \n",
    "print(sum(slova.values())/10)"
   ]
  },
  {
   "cell_type": "code",
   "execution_count": 20,
   "metadata": {},
   "outputs": [
    {
     "name": "stdout",
     "output_type": "stream",
     "text": [
      "29 1228\n"
     ]
    }
   ],
   "source": [
    "sym = []\n",
    "up = 0\n",
    "low = 0\n",
    "digit = 0\n",
    "space = 0\n",
    "\n",
    "for i in lines:\n",
    "    for j in i:\n",
    "        sym.append(j.split())\n",
    "        if j.isupper():\n",
    "            up = up + 1\n",
    "        elif j.islower():\n",
    "            low = low + 1\n",
    "        elif j.isdigit():\n",
    "            digit = digit + 1\n",
    "        elif j == ' ':\n",
    "            space = space + 1\n",
    "            \n",
    "        \n",
    "print(up, low, digit, sp)"
   ]
  },
  {
   "cell_type": "code",
   "execution_count": null,
   "metadata": {},
   "outputs": [],
   "source": []
  },
  {
   "cell_type": "code",
   "execution_count": null,
   "metadata": {},
   "outputs": [],
   "source": []
  }
 ],
 "metadata": {
  "kernelspec": {
   "display_name": "Python 3",
   "language": "python",
   "name": "python3"
  },
  "language_info": {
   "codemirror_mode": {
    "name": "ipython",
    "version": 3
   },
   "file_extension": ".py",
   "mimetype": "text/x-python",
   "name": "python",
   "nbconvert_exporter": "python",
   "pygments_lexer": "ipython3",
   "version": "3.7.4"
  }
 },
 "nbformat": 4,
 "nbformat_minor": 4
}
