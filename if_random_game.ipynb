{
 "cells": [
  {
   "cell_type": "code",
   "execution_count": 3,
   "metadata": {},
   "outputs": [
    {
     "name": "stdin",
     "output_type": "stream",
     "text": [
      "Введите целое число от 0 до 4\n",
      " 2\n"
     ]
    },
    {
     "name": "stdout",
     "output_type": "stream",
     "text": [
      "Вы проиграли. Нужное чило больше на 1 \n",
      "Это  3\n"
     ]
    }
   ],
   "source": [
    "import random\n",
    "\n",
    "x = int(input ('Введите целое число от 0 до 4\\n'))\n",
    "y = random.randint(0, 4)\n",
    "\n",
    "def ran1to4(x, y):\n",
    "    if x == y:\n",
    "        print('Вы победили! ')\n",
    "    elif x > y:\n",
    "        print('Вы проиграли. Нужное чило меньше на', x - y, '\\nЭто ', y)\n",
    "    elif x < y:\n",
    "        print('Вы проиграли. Нужное чило больше на', y - x, '\\nЭто ', y)\n",
    "    else:\n",
    "        print('Что-то пошло не так. \\nПопробуйте еще разок.')\n",
    "        \n",
    "ran1to4(x, y)"
   ]
  },
  {
   "cell_type": "code",
   "execution_count": null,
   "metadata": {},
   "outputs": [],
   "source": []
  },
  {
   "cell_type": "code",
   "execution_count": null,
   "metadata": {},
   "outputs": [],
   "source": []
  }
 ],
 "metadata": {
  "kernelspec": {
   "display_name": "Python 3",
   "language": "python",
   "name": "python3"
  },
  "language_info": {
   "codemirror_mode": {
    "name": "ipython",
    "version": 3
   },
   "file_extension": ".py",
   "mimetype": "text/x-python",
   "name": "python",
   "nbconvert_exporter": "python",
   "pygments_lexer": "ipython3",
   "version": "3.7.4"
  }
 },
 "nbformat": 4,
 "nbformat_minor": 4
}
