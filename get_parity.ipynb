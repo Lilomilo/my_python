{
 "cells": [
  {
   "cell_type": "code",
   "execution_count": 8,
   "metadata": {},
   "outputs": [
    {
     "name": "stdin",
     "output_type": "stream",
     "text": [
      "Введите целое число: \n",
      " 563635\n"
     ]
    },
    {
     "name": "stdout",
     "output_type": "stream",
     "text": [
      "563635 нечетное число\n"
     ]
    }
   ],
   "source": [
    "x = int(input('Введите целое число: \\n'))\n",
    "\n",
    "def if_even(x):\n",
    "    if x % 2 == 0:\n",
    "        print(x, 'четное число')\n",
    "    elif x % 2 == 1:\n",
    "        print(x, 'нечетное число')\n",
    "    else:\n",
    "         print('что-то пошло не так')\n",
    "        \n",
    "if_even(x)"
   ]
  },
  {
   "cell_type": "code",
   "execution_count": null,
   "metadata": {},
   "outputs": [],
   "source": []
  }
 ],
 "metadata": {
  "kernelspec": {
   "display_name": "Python 3",
   "language": "python",
   "name": "python3"
  },
  "language_info": {
   "codemirror_mode": {
    "name": "ipython",
    "version": 3
   },
   "file_extension": ".py",
   "mimetype": "text/x-python",
   "name": "python",
   "nbconvert_exporter": "python",
   "pygments_lexer": "ipython3",
   "version": "3.7.4"
  }
 },
 "nbformat": 4,
 "nbformat_minor": 4
}
