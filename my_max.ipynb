{
 "cells": [
  {
   "cell_type": "code",
   "execution_count": 7,
   "metadata": {},
   "outputs": [
    {
     "name": "stdin",
     "output_type": "stream",
     "text": [
      "Введите первое число:  423\n",
      "Введите второе число:  42\n"
     ]
    },
    {
     "name": "stdout",
     "output_type": "stream",
     "text": [
      "Максимальное число: 423\n"
     ]
    }
   ],
   "source": [
    "def value(a, b):\n",
    "    if a - b >= 0:\n",
    "        print('Максимальное число:', a)\n",
    "    elif b - a > 0:\n",
    "        print('Максимальное число:', b)\n",
    "\n",
    "x = int(input('Введите первое число: '))\n",
    "y = int(input('Введите второе число: '))\n",
    "\n",
    "value(x, y)"
   ]
  },
  {
   "cell_type": "code",
   "execution_count": null,
   "metadata": {},
   "outputs": [],
   "source": []
  }
 ],
 "metadata": {
  "kernelspec": {
   "display_name": "Python 3",
   "language": "python",
   "name": "python3"
  },
  "language_info": {
   "codemirror_mode": {
    "name": "ipython",
    "version": 3
   },
   "file_extension": ".py",
   "mimetype": "text/x-python",
   "name": "python",
   "nbconvert_exporter": "python",
   "pygments_lexer": "ipython3",
   "version": "3.7.4"
  }
 },
 "nbformat": 4,
 "nbformat_minor": 4
}
