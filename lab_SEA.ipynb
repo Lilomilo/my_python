{
 "cells": [
  {
   "cell_type": "markdown",
   "metadata": {},
   "source": [
    "# **Лабораторная работа №1** (Вариант 2)\n",
    "## Задание 1\n",
    "\n",
    "Статистика посещаемости группы выражается в **двух** показателях:\n",
    "\n",
    " * просмотры — *критерий views*;\n",
    "\n",
    " * посещения — *критерий visitors*."
   ]
  },
  {
   "cell_type": "code",
   "execution_count": 26,
   "metadata": {},
   "outputs": [
    {
     "name": "stdout",
     "output_type": "stream",
     "text": [
      "{2020: 309, 2019: 1896, 2018: 733, 2017: 1132, 2016: 841}\n"
     ]
    }
   ],
   "source": [
    "#просмотры - критерий views.\n",
    "\n",
    "import csv\n",
    "\n",
    "with open('lab_SEA.txt', 'r', encoding = 'utf8') as file:\n",
    "    line = csv.reader(file)\n",
    "    \n",
    "    views = dict()\n",
    "    lst = []\n",
    "    \n",
    "    for i in line:\n",
    "        if i[0] == 'Дата':\n",
    "            continue\n",
    "        else:\n",
    "            year = int(i[0].split('.')[2])\n",
    "            x = int(i[4])\n",
    "            \n",
    "            if i[1] == 'views':\n",
    "                if year in views:\n",
    "                    lst.append(x)\n",
    "                    views[year] = sum(lst)\n",
    "                else:\n",
    "                    lst.clear()\n",
    "                    lst.append(x)\n",
    "                    views[year] = sum(lst)\n",
    "            \n",
    "    print(views)"
   ]
  },
  {
   "cell_type": "code",
   "execution_count": 226,
   "metadata": {},
   "outputs": [
    {
     "data": {
      "image/png": "[encoded data removed]",
      "text/plain": [
       "<Figure size 432x288 with 1 Axes>"
      ]
     },
     "metadata": {
      "needs_background": "light"
     },
     "output_type": "display_data"
    }
   ],
   "source": [
    "# Столбчатая диаграма по просмотрам.\n",
    "import matplotlib.pyplot as plt\n",
    "%matplotlib inline\n",
    "\n",
    "left_edges = list(views.keys())\n",
    "\n",
    "# Создать список с высотами каждого столбика.\n",
    "heights = list(views.values())\n",
    "\n",
    "# Создать переменную для ширины столбика.\n",
    "bar_width = 0.8\n",
    "\n",
    "# Добавить заголовок.\n",
    "plt.title('Просмотры в группе VK')\n",
    "\n",
    "# Добавить на оси описательные метки.\n",
    "plt.xlabel('Год')\n",
    "plt.ylabel('Количество')\n",
    "\n",
    "# Добавить заголовок.\n",
    "plt.title('Просмотры в группе VK')\n",
    "\n",
    "# Добавить на оси описательные метки.\n",
    "plt.xlabel('Год')\n",
    "plt.ylabel('Количество')\n",
    "\n",
    "# Построить столбчатую диаграмму.\n",
    "plt.bar(left_edges, heights, bar_width, color = 'violet')\n",
    "\n",
    "# Показать столбчатую диаграмму.\n",
    "plt.show()"
   ]
  },
  {
   "cell_type": "code",
   "execution_count": 15,
   "metadata": {},
   "outputs": [
    {
     "name": "stdout",
     "output_type": "stream",
     "text": [
      "{2020: 204, 2019: 1057, 2018: 535, 2017: 823, 2016: 610}\n"
     ]
    }
   ],
   "source": [
    "#посещения - критерий visitors. \n",
    "import csv\n",
    "\n",
    "with open('lab_SEA.txt', 'r', encoding = 'utf8') as file:\n",
    "    line = csv.reader(file)\n",
    "    \n",
    "    visitors = dict()\n",
    "    lst = []\n",
    "    \n",
    "    for i in line:\n",
    "        if i[0] == 'Дата':\n",
    "            continue\n",
    "        else:\n",
    "            year = int(i[0].split('.')[2])\n",
    "            x = int(i[4])\n",
    "            \n",
    "            if i[1] == 'visitors':\n",
    "                if year in visitors:\n",
    "                    lst.append(x)\n",
    "                    visitors[year] = sum(lst)\n",
    "                else:\n",
    "                    lst.clear()\n",
    "                    lst.append(x)\n",
    "                    visitors[year] = sum(lst)\n",
    "            \n",
    "    print(visitors)"
   ]
  },
  {
   "cell_type": "code",
   "execution_count": 227,
   "metadata": {},
   "outputs": [
    {
     "data": {
      "image/png": "[encoded data removed]",
      "text/plain": [
       "<Figure size 432x288 with 1 Axes>"
      ]
     },
     "metadata": {
      "needs_background": "light"
     },
     "output_type": "display_data"
    }
   ],
   "source": [
    "# Столбчатая диаграма по посетителям.\n",
    "import matplotlib.pyplot as plt\n",
    "%matplotlib inline\n",
    "\n",
    "# Создать список с координатами X левого края каждого столбика\n",
    "left_edges = list(visitors.keys())\n",
    "\n",
    "# Создать список с высотами каждого столбика.\n",
    "heights = list(visitors.values())\n",
    "\n",
    "# Создать переменную для ширины столбика.\n",
    "bar_width = 0.8\n",
    "\n",
    "# Добавить заголовок.\n",
    "plt.title('Посещения в группе VK')\n",
    "\n",
    "# Добавить на оси описательные метки.\n",
    "plt.xlabel('Год')\n",
    "plt.ylabel('Количество')\n",
    "\n",
    "# Построить столбчатую диаграмму.\n",
    "plt.bar(left_edges, heights, bar_width, color = 'lightgrey')\n",
    "\n",
    "# Показать столбчатую диаграмму.\n",
    "plt.show()"
   ]
  },
  {
   "cell_type": "markdown",
   "metadata": {},
   "source": [
    "### Выводы по заданию 1\n",
    "За исключением 2018 года, наблюдается устойчивый ***рост посещаемости группы***. 2020 год пока еще не закончился, этим объясняются сравнительно более низкие показатели. \n",
    "\n",
    "## Задание 2\n",
    "\n",
    "Охват аудитории выражается в **трёх** показателях:\n",
    "\n",
    " * охват — *критерий reach*;\n",
    "\n",
    " * охват подписчиков — *критерий reach_subscribers*;\n",
    " \n",
    " * охват — *критерий reach_viral*."
   ]
  },
  {
   "cell_type": "code",
   "execution_count": 27,
   "metadata": {},
   "outputs": [
    {
     "name": "stdout",
     "output_type": "stream",
     "text": [
      "{2020: 491, 2019: 4000, 2018: 475, 2017: 733, 2016: 555}\n"
     ]
    }
   ],
   "source": [
    "#охват - критерий reach.\n",
    "\n",
    "import csv \n",
    "\n",
    "with open('lab_SEA.txt', 'r', encoding = 'utf8') as file:\n",
    "    line = csv.reader(file)\n",
    "    \n",
    "    reach = dict()\n",
    "    lst = []\n",
    "    \n",
    "    for i in line:\n",
    "        if i[0] == 'Дата':\n",
    "            continue\n",
    "        else:\n",
    "            year = int(i[0].split('.')[2])\n",
    "            x = int(i[4])\n",
    "            \n",
    "            if i[1] == 'reach':\n",
    "                if year in reach:\n",
    "                    lst.append(x)\n",
    "                    reach[year] = sum(lst)\n",
    "                else:\n",
    "                    lst.clear()\n",
    "                    lst.append(x)\n",
    "                    reach[year] = sum(lst)\n",
    "            \n",
    "    print(reach)"
   ]
  },
  {
   "cell_type": "code",
   "execution_count": 28,
   "metadata": {},
   "outputs": [
    {
     "name": "stdout",
     "output_type": "stream",
     "text": [
      "{2020: 321, 2019: 2942, 2018: 3032, 2017: 3217, 2016: 3362}\n"
     ]
    }
   ],
   "source": [
    "#охват - критерий reach_subscribers.\n",
    "\n",
    "import csv \n",
    "\n",
    "with open('lab_SEA.txt', 'r', encoding = 'utf8') as file:\n",
    "    line = csv.reader(file)\n",
    "    \n",
    "    reach_subscribers = dict()\n",
    "    lst = []\n",
    "    \n",
    "    for i in line:\n",
    "        if i[0] == 'Дата':\n",
    "            continue\n",
    "        else:\n",
    "            year = int(i[0].split('.')[2])\n",
    "            x = int(i[4])\n",
    "            \n",
    "            if i[1] == 'reach_subscribers':\n",
    "                if year in reach:\n",
    "                    lst.append(x)\n",
    "                    reach_subscribers[year] = sum(lst)\n",
    "                else:\n",
    "                    lst.clear()\n",
    "                    lst.append(x)\n",
    "                    reach_subscribers[year] = sum(lst)\n",
    "            \n",
    "    print(reach_subscribers)"
   ]
  },
  {
   "cell_type": "code",
   "execution_count": 29,
   "metadata": {},
   "outputs": [
    {
     "name": "stdout",
     "output_type": "stream",
     "text": [
      "{2020: 170, 2019: 1379, 2018: 385, 2017: 548, 2016: 410}\n"
     ]
    }
   ],
   "source": [
    "#охват - критерий reach_viral.\n",
    "\n",
    "import csv \n",
    "\n",
    "with open('lab_SEA.txt', 'r', encoding = 'utf8') as file:\n",
    "    line = csv.reader(file)\n",
    "    \n",
    "    reach_viral = dict()\n",
    "    lst = []\n",
    "    \n",
    "    for i in line:\n",
    "        if i[0] == 'Дата':\n",
    "            continue\n",
    "        else:\n",
    "            year = int(i[0].split('.')[2])\n",
    "            x = int(i[4])\n",
    "            \n",
    "            if i[1] == 'reach_viral':\n",
    "                if year in reach_viral:\n",
    "                    lst.append(x)\n",
    "                    reach_viral[year] = sum(lst)\n",
    "                else:\n",
    "                    lst.clear()\n",
    "                    lst.append(x)\n",
    "                    reach_viral[year] = sum(lst)\n",
    "            \n",
    "    print(reach_viral)"
   ]
  },
  {
   "cell_type": "code",
   "execution_count": 31,
   "metadata": {},
   "outputs": [
    {
     "data": {
      "image/png": "[encoded data removed]",
      "text/plain": [
       "<Figure size 432x288 with 1 Axes>"
      ]
     },
     "metadata": {
      "needs_background": "light"
     },
     "output_type": "display_data"
    }
   ],
   "source": [
    "#на графике все показатели охвата сразу\n",
    "import matplotlib.pyplot as plt\n",
    "\n",
    "%matplotlib inline\n",
    "\n",
    "x1 = list(reach.keys())\n",
    "y1 = list(reach.values())\n",
    "\n",
    "x2 = list(reach_subscribers.keys())\n",
    "y2 = list(reach_subscribers.values())\n",
    "\n",
    "x3 = list(reach_viral.keys())\n",
    "y3 = list(reach_viral.values())\n",
    "\n",
    "# Добавить заголовок.\n",
    "plt.title('Охват в группе VK')\n",
    "\n",
    "\n",
    "# Добавить на оси описательные метки.\n",
    "plt.xlabel('Год')\n",
    "plt.ylabel('Количество')\n",
    "\n",
    "# Построить график.\n",
    "plt.plot(x1, y1, x2, y2, x3, y3)\n",
    "\n",
    "plt.xlim(xmin=2015.5, xmax=2020.5)\n",
    "\n",
    "\n",
    "#Добавить легенду\n",
    "plt.legend(('reach', 'reach_subsribers', 'viral_reach'))\n",
    "\n",
    "# Показать график.\n",
    "plt.show()"
   ]
  },
  {
   "cell_type": "markdown",
   "metadata": {},
   "source": [
    "### Выводы по заданию 2\n",
    "Весьма странно, что охват в целом ниже, чем охват подписчиков. Возможно, дело в особенностях статистики VK. Или же что-то было сделано неправильно на предыдущих этапах. Тем не менее, без учета неполного 2020 года наблюдается ***рост охвата аудитории***. Виральный охват является частью общего охвата и обозначает, сколько людей увидели записи в результате лайков, репостов, комментарий и так далее. Он повторяет динамику общего охвата.\n",
    "\n",
    "## Задание 3\n",
    "\n",
    "Демография выражается в **трёх** показателях:\n",
    "\n",
    " * пол — *критерии gender, gender_age*;\n",
    "\n",
    " * возраст — *критерии age, gender_age*;\n",
    " \n",
    " * страна — *критерий countries*.\n",
    "\n",
    "С субъективной точки зрения, здесь нет особого смысла смотреть данные по годам, если предположить, что аудитория остается неизменной в относительных показателях. Будет рассмотрена статистика ***за все время существования группы.***\n",
    "\n",
    "P.S. В принципе, чтобы сделать статистику по любому году, достаточно добавить к существующему еще один фильтр: \"if (i[1] == 'gender') & (i[0].split('.')[2] == '2020'):\"."
   ]
  },
  {
   "cell_type": "code",
   "execution_count": 32,
   "metadata": {},
   "outputs": [
    {
     "name": "stdout",
     "output_type": "stream",
     "text": [
      "{'M': 1888, 'Ж': 965}\n"
     ]
    }
   ],
   "source": [
    "#пол - за все время\n",
    "import csv\n",
    "\n",
    "with open('lab_SEA.txt', 'r', encoding = 'utf8') as file:\n",
    "    line = csv.reader(file)\n",
    "    gender = dict() \n",
    "    male = []\n",
    "    female = []\n",
    "    \n",
    "    for i in line:\n",
    "        if i[0] == 'Дата':\n",
    "            continue\n",
    "        else:\n",
    "            if i[1] == 'gender':\n",
    "                if i[2] == 'М':\n",
    "                    male.append(int(i[4]))\n",
    "                elif i[2] == 'Ж':\n",
    "                    female.append(int(i[4]))\n",
    "    gender ={'M': sum(male), 'Ж': sum(female)}\n",
    "    print(gender)"
   ]
  },
  {
   "cell_type": "code",
   "execution_count": 90,
   "metadata": {},
   "outputs": [
    {
     "data": {
      "image/png": "[encoded data removed]",
      "text/plain": [
       "<Figure size 432x288 with 1 Axes>"
      ]
     },
     "metadata": {},
     "output_type": "display_data"
    }
   ],
   "source": [
    "import matplotlib.pyplot as plt\n",
    "%matplotlib inline\n",
    "\n",
    "plt.title('Cоотношение полов: 2016 - 2020')\n",
    "\n",
    "colors = ['royalblue', 'lightsalmon']\n",
    "\n",
    "plt.pie(list(gender.values()), colors = colors, autopct = '%1.0f%%', center = (0, 0))\n",
    "\n",
    "plt.legend(('male', 'female'), loc = (1, 0.2), title = 'Пол')\n",
    "\n",
    "\n",
    "plt.show()"
   ]
  },
  {
   "cell_type": "code",
   "execution_count": 51,
   "metadata": {},
   "outputs": [
    {
     "name": "stdout",
     "output_type": "stream",
     "text": [
      "{'30-35': None, '24-27': None, '27-30': None, '35-45': None, '1-18': None, '21-24': None, '18-21': None, '45+': None}\n"
     ]
    }
   ],
   "source": [
    "#возраст - за все время\n",
    "import csv\n",
    "    \n",
    "with open('lab_SEA.txt', 'r', encoding = 'utf8') as file:\n",
    "    line = csv.reader(file)\n",
    "    age = dict() \n",
    "    x = []\n",
    "    \n",
    "    for i in line:\n",
    "        if i[0] == 'Дата':\n",
    "            continue\n",
    "        else:\n",
    "            if i[1] == 'age':\n",
    "                x = i[2]\n",
    "                if (x not in age):\n",
    "                    age.setdefault(x)\n",
    "                else:\n",
    "                    continue\n",
    "    print(age)"
   ]
  },
  {
   "cell_type": "code",
   "execution_count": 117,
   "metadata": {},
   "outputs": [
    {
     "name": "stdout",
     "output_type": "stream",
     "text": [
      "{'1-18': 82, '18-21': 852, '21-24': 546, '24-27': 277, '27-30': 160, '30-35': 299, '35-45': 141, '45+': 198}\n"
     ]
    }
   ],
   "source": [
    "import csv\n",
    "_age = dict()\n",
    "\n",
    "for category in age.keys():\n",
    "    \n",
    "    with open('lab_SEA.txt', 'r', encoding = 'utf8') as file:\n",
    "        line = csv.reader(file)\n",
    "        x = 0\n",
    "\n",
    "        for i in line:\n",
    "            if (i[1] == 'age') & (category == i[2]):\n",
    "                x+=int(i[4])\n",
    "        _age[category] = x\n",
    "        \n",
    "_age = dict(sorted(_age.items()))\n",
    "\n",
    "print(_age)"
   ]
  },
  {
   "cell_type": "code",
   "execution_count": 95,
   "metadata": {},
   "outputs": [
    {
     "data": {
      "image/png": "[encoded data removed]",
      "text/plain": [
       "<Figure size 432x288 with 1 Axes>"
      ]
     },
     "metadata": {},
     "output_type": "display_data"
    }
   ],
   "source": [
    "import matplotlib.pyplot as plt\n",
    "%matplotlib inline\n",
    "\n",
    "colors = ['lightblue', 'orangered', 'silver', 'peachpuff', 'gold', 'navy', 'grey', 'violet']\n",
    "\n",
    "plt.title('Возраст: 2016 - 2020')\n",
    "\n",
    "plt.pie(list(_age.values()), colors = colors, autopct = '%1.0f%%')\n",
    "\n",
    "plt.legend(('1-18', '18-21', '21-24', '24-27', '27-30', '30-35', '35-45', '45+'), title = 'Возраст', loc = (1, 0.2))\n",
    "\n",
    "\n",
    "plt.show()"
   ]
  },
  {
   "cell_type": "code",
   "execution_count": 98,
   "metadata": {},
   "outputs": [
    {
     "name": "stdout",
     "output_type": "stream",
     "text": [
      "{'Россия': None, 'Германия': None, 'Франция': None, 'Индонезия': None, 'США': None, 'Китай': None, 'Южная Корея': None, 'Мексика': None, 'Таиланд': None, 'Великобритания': None, 'Беларусь': None, 'Венгрия': None, 'Сингапур': None, 'Малайзия': None, 'Казахстан': None, 'Канада': None, 'Финляндия': None, 'Украина': None, 'Вьетнам': None, 'Азербайджан': None, 'Нидерланды': None, 'Польша': None, 'Швеция': None, 'Босния и Герцеговина': None, 'Молдова': None, 'Узбекистан': None, '': None, 'Испания': None, 'Армения': None, 'Швейцария': None, 'Пакистан': None, 'Бразилия': None, 'Кыргызстан': None, 'Таджикистан': None, 'Япония': None, 'Дания': None, 'Израиль': None, 'Эстония': None, 'Тайвань': None, 'Италия': None, 'Ирландия': None, 'Турция': None, 'Латвия': None}\n"
     ]
    }
   ],
   "source": [
    "#страны\n",
    "import csv\n",
    "    \n",
    "with open('lab_SEA.txt', 'r', encoding = 'utf8') as file:\n",
    "    line = csv.reader(file)\n",
    "    country = dict() \n",
    "    x = []\n",
    "    \n",
    "    for i in line:\n",
    "        if i[0] == 'Дата':\n",
    "            continue\n",
    "        else:\n",
    "            if i[1] == 'countries':\n",
    "                x = i[2]\n",
    "                if (x not in country):\n",
    "                    country.setdefault(x)\n",
    "                else:\n",
    "                    continue\n",
    "    print(country)"
   ]
  },
  {
   "cell_type": "code",
   "execution_count": 158,
   "metadata": {},
   "outputs": [
    {
     "name": "stdout",
     "output_type": "stream",
     "text": [
      "{'Россия': 2888, 'Германия': 11, 'Франция': 11, 'Индонезия': 3, 'США': 59, 'Китай': 2, 'Южная Корея': 3, 'Мексика': 1, 'Таиланд': 6, 'Великобритания': 7, 'Беларусь': 29, 'Венгрия': 1, 'Сингапур': 3, 'Малайзия': 2, 'Казахстан': 52, 'Канада': 2, 'Финляндия': 2, 'Украина': 67, 'Вьетнам': 2, 'Азербайджан': 4, 'Нидерланды': 6, 'Польша': 3, 'Швеция': 3, 'Босния и Герцеговина': 1, 'Молдова': 7, 'Узбекистан': 2, '': 21, 'Испания': 4, 'Армения': 5, 'Швейцария': 1, 'Пакистан': 1, 'Бразилия': 1, 'Кыргызстан': 5, 'Таджикистан': 1, 'Япония': 2, 'Дания': 1, 'Израиль': 3, 'Эстония': 1, 'Тайвань': 1, 'Италия': 1, 'Ирландия': 1, 'Турция': 2, 'Латвия': 1}\n"
     ]
    }
   ],
   "source": [
    "import csv\n",
    "_country = dict()\n",
    "\n",
    "for category in country.keys():\n",
    "    \n",
    "    with open('lab_SEA.txt', 'r', encoding = 'utf8') as file:\n",
    "        line = csv.reader(file)\n",
    "        x = 0\n",
    "\n",
    "        for i in line:\n",
    "            if (i[1] == 'countries') & (category == i[2]):\n",
    "                x+=int(i[4])\n",
    "        _country[category] = x\n",
    "                \n",
    "print(_country)"
   ]
  },
  {
   "cell_type": "code",
   "execution_count": 159,
   "metadata": {},
   "outputs": [
    {
     "name": "stdout",
     "output_type": "stream",
     "text": [
      "{'Россия': 2888, 'Другие': 134, 'Украина': 67, 'США': 59, 'Казахстан': 52, 'Беларусь': 29}\n"
     ]
    }
   ],
   "source": [
    "x = 'Другие'\n",
    "lst = []\n",
    "for i in sorted(_country, key = _country.get, reverse = True):\n",
    "    if (_country[i] < 12) | (i == ''):\n",
    "        lst.append(_country[i])\n",
    "        del _country[i]\n",
    "\n",
    "_country[x] = sum(lst)\n",
    "\n",
    "_countrysorted = dict()\n",
    "\n",
    "for s in sorted(_country, key = _country.get, reverse = True):\n",
    "    _countrysorted[s] = _country[s]\n",
    "    \n",
    "print(_countrysorted)"
   ]
  },
  {
   "cell_type": "code",
   "execution_count": 233,
   "metadata": {},
   "outputs": [
    {
     "data": {
      "image/png": "[encoded data removed]",
      "text/plain": [
       "<Figure size 432x288 with 1 Axes>"
      ]
     },
     "metadata": {},
     "output_type": "display_data"
    }
   ],
   "source": [
    "#countries\n",
    "import matplotlib.pyplot as plt\n",
    "%matplotlib inline\n",
    "\n",
    "colors = ['lightsteelblue', 'rebeccapurple', 'beige', 'orchid', 'orange', 'salmon']\n",
    "\n",
    "plt.title('Cтраны: 2016 - 2020')\n",
    "\n",
    "plt.pie(list(_countrysorted.values()), colors = colors)\n",
    "\n",
    "plt.legend(('Россия', 'Другие', 'Украина', 'США', 'Казахстан', 'Беларусь'), title = 'Страны', loc = (1, 0.2))\n",
    "\n",
    "\n",
    "plt.show()"
   ]
  },
  {
   "cell_type": "markdown",
   "metadata": {},
   "source": [
    "*Комментарий*\n",
    "\n",
    "Легенда не будет автоматически обновляться, а для того, чтобы получить корректное значение по полю \"Другие\", придется каждый раз заново генерировать исходный словарь. Можно поменять фильтр, и тогда больше стран добавятся на график, я установила 12 посетителей в год."
   ]
  },
  {
   "cell_type": "code",
   "execution_count": 171,
   "metadata": {},
   "outputs": [
    {
     "name": "stdout",
     "output_type": "stream",
     "text": [
      "{'24-27': None, '27-30': None, '21-24': None, '35-45': None, '18-21': None, '30-35': None, '45+': None, '1-18': None} {'30-35': None, '27-30': None, '35-45': None, '1-18': None, '18-21': None, '21-24': None, '24-27': None, '45+': None}\n"
     ]
    }
   ],
   "source": [
    "#gender_age\n",
    "import csv\n",
    "    \n",
    "with open('lab_SEA.txt', 'r', encoding = 'utf8') as file:\n",
    "    line = csv.reader(file)\n",
    "    gen_age_f = dict() \n",
    "    gen_age_m = dict() \n",
    "    f = []\n",
    "    m = []\n",
    "    \n",
    "    for i in line:\n",
    "        if i[0] == 'Дата':\n",
    "            continue\n",
    "        else:\n",
    "            if (i[1] == 'gender_age') & (i[2] == 'Ж'):\n",
    "                f = i[3]\n",
    "                if (f not in gen_age_f):\n",
    "                    gen_age_f.setdefault(f)\n",
    "            elif (i[1] == 'gender_age') & (i[2] == 'М'):\n",
    "                m = i[3]\n",
    "                if (m not in gen_age_m):\n",
    "                    gen_age_m.setdefault(m)\n",
    "                \n",
    "    print(gen_age_f, gen_age_m)"
   ]
  },
  {
   "cell_type": "code",
   "execution_count": 174,
   "metadata": {},
   "outputs": [
    {
     "name": "stdout",
     "output_type": "stream",
     "text": [
      "{'1-18': 35, '18-21': 253, '21-24': 178, '24-27': 117, '27-30': 66, '30-35': 69, '35-45': 39, '45+': 79}\n"
     ]
    }
   ],
   "source": [
    "#age по женщинам\n",
    "import csv\n",
    "_gen_age_f = dict()\n",
    "\n",
    "for category in gen_age_f.keys():\n",
    "    \n",
    "    with open('lab_SEA.txt', 'r', encoding = 'utf8') as file:\n",
    "        line = csv.reader(file)\n",
    "        x = 0\n",
    "\n",
    "        for i in line:\n",
    "            if (i[1] == 'gender_age') & (category == i[3]) & (i[2] == 'Ж'):\n",
    "                x+=int(i[4])\n",
    "        _gen_age_f[category] = x\n",
    "\n",
    "_gen_age_f = dict(sorted(_gen_age_f.items()))                \n",
    "print(_gen_age_f)"
   ]
  },
  {
   "cell_type": "code",
   "execution_count": 183,
   "metadata": {},
   "outputs": [
    {
     "data": {
      "image/png": "[encoded data removed]",
      "text/plain": [
       "<Figure size 432x288 with 1 Axes>"
      ]
     },
     "metadata": {},
     "output_type": "display_data"
    }
   ],
   "source": [
    "import matplotlib.pyplot as plt\n",
    "%matplotlib inline\n",
    "\n",
    "colors = ['lightblue', 'orangered', 'silver', 'peachpuff', 'gold', 'navy', 'grey', 'violet']\n",
    "\n",
    "plt.title('Возраст по женщинам: 2016 - 2020')\n",
    "\n",
    "plt.pie(list(_gen_age_f.values()), colors = colors, autopct = '%1.0f%%')\n",
    "\n",
    "plt.legend(('1-18', '18-21', '21-24', '24-27', '27-30', '30-35', '35-45', '45+'), title = 'Возраст', loc = (1, 0.2))\n",
    "\n",
    "\n",
    "plt.show()"
   ]
  },
  {
   "cell_type": "code",
   "execution_count": 184,
   "metadata": {},
   "outputs": [
    {
     "name": "stdout",
     "output_type": "stream",
     "text": [
      "{'1-18': 47, '18-21': 599, '21-24': 368, '24-27': 160, '27-30': 94, '30-35': 230, '35-45': 102, '45+': 119}\n"
     ]
    }
   ],
   "source": [
    "#age по мужчинам\n",
    "import csv\n",
    "_gen_age_m = dict()\n",
    "\n",
    "for category in gen_age_m.keys():\n",
    "    \n",
    "    with open('lab_SEA.txt', 'r', encoding = 'utf8') as file:\n",
    "        line = csv.reader(file)\n",
    "        x = 0\n",
    "\n",
    "        for i in line:\n",
    "            if (i[1] == 'gender_age') & (category == i[3]) & (i[2] == 'М'):\n",
    "                x+=int(i[4])\n",
    "        _gen_age_m[category] = x\n",
    "\n",
    "_gen_age_m = dict(sorted(_gen_age_m.items()))\n",
    "\n",
    "print(_gen_age_m)"
   ]
  },
  {
   "cell_type": "code",
   "execution_count": 186,
   "metadata": {},
   "outputs": [
    {
     "data": {
      "image/png": "[encoded data removed]",
      "text/plain": [
       "<Figure size 432x288 with 1 Axes>"
      ]
     },
     "metadata": {},
     "output_type": "display_data"
    }
   ],
   "source": [
    "import matplotlib.pyplot as plt\n",
    "%matplotlib inline\n",
    "\n",
    "colors = ['lightblue', 'orangered', 'silver', 'peachpuff', 'gold', 'navy', 'grey', 'violet']\n",
    "\n",
    "plt.title('Возраст по мужчинам: 2016 - 2020')\n",
    "\n",
    "plt.pie(list(_gen_age_m.values()), colors = colors, autopct = '%1.0f%%')\n",
    "\n",
    "plt.legend(('1-18', '18-21', '21-24', '24-27', '27-30', '30-35', '35-45', '45+'), title = 'Возраст', loc = (1, 0.2))\n",
    "\n",
    "\n",
    "plt.show()"
   ]
  },
  {
   "cell_type": "markdown",
   "metadata": {},
   "source": [
    "### Выводы по заданию 3\n",
    "Примерно 2/3 аудитории составляют мужчины, а оставшиеся 1/3 — женщины. Вероятно, это объясняется тематикой группы. Нет явной разницы между представителями обоих полов с точки зрения возрастных категорий. \n",
    "\n",
    "Больше всего посетителей попали в возрастную категорию от 18 до 21 года, что опять-таки может объясняться спецификов группы, — 'это 33%. ***При этом младше 30 лет оказалось 74% посетителей.***\n",
    "\n",
    "Подавляющее число посетителей группы — из России и стран СНГ. Всего в списке было 48 стран (VPN?).  \n",
    "\n",
    "## Задание 4\n",
    "\n",
    "Обратная связь cвязана с *критерием feedback*. \n",
    "\n",
    "Feedback включает в себя:\n",
    "\n",
    " * лайки;\n",
    "\n",
    " * комментарии;\n",
    " \n",
    " * репосты.\n",
    "\n",
    "Будет рассмотрены данные ***в динамике.***\n"
   ]
  },
  {
   "cell_type": "code",
   "execution_count": 191,
   "metadata": {},
   "outputs": [
    {
     "name": "stdout",
     "output_type": "stream",
     "text": [
      "{2020: 13, 2019: 68, 2017: 1, 2016: 6}\n"
     ]
    }
   ],
   "source": [
    "#лайки\n",
    " \n",
    "import csv\n",
    "\n",
    "with open('lab_SEA.txt', 'r', encoding = 'utf8') as file:\n",
    "    line = csv.reader(file)\n",
    "    likes = dict()\n",
    "    lst = []\n",
    "\n",
    "    \n",
    "    for i in line:\n",
    "        if i[0] == 'Дата':\n",
    "            continue\n",
    "        else:\n",
    "            year = int(i[0].split('.')[2])\n",
    "            x = int(i[4])\n",
    "            \n",
    "            if (i[1] == 'feedback') & (i[2] == 'Нравится'):\n",
    "                if year in likes:\n",
    "                    lst.append(x)\n",
    "                    likes[year] = sum(lst)\n",
    "                else:\n",
    "                    lst.clear()\n",
    "                    lst.append(x)\n",
    "                    likes[year] = sum(lst)\n",
    "            \n",
    "    print(likes)"
   ]
  },
  {
   "cell_type": "code",
   "execution_count": 218,
   "metadata": {},
   "outputs": [
    {
     "data": {
      "image/png": "[encoded data removed]",
      "text/plain": [
       "<Figure size 432x288 with 1 Axes>"
      ]
     },
     "metadata": {
      "needs_background": "light"
     },
     "output_type": "display_data"
    }
   ],
   "source": [
    "import matplotlib.pyplot as plt\n",
    "%matplotlib inline\n",
    "\n",
    "left_edges = list(likes.keys())\n",
    "\n",
    "# Создать список с высотами каждого столбика.\n",
    "heights = list(likes.values())\n",
    "\n",
    "# Создать переменную для ширины столбика.\n",
    "bar_width = 0.8\n",
    "\n",
    "# Построить столбчатую диаграмму.\n",
    "plt.bar(left_edges, heights, bar_width, color = 'peachpuff')\n",
    "\n",
    "# Добавить заголовок.\n",
    "plt.title('Отметки \"Нравится\" в группе VK')\n",
    "\n",
    "# Добавить на оси описательные метки.\n",
    "plt.xlabel('Год')\n",
    "plt.ylabel('Количество')\n",
    "\n",
    "plt.xlim(xmin=2015.5, xmax=2020.5)\n",
    "\n",
    "#Добавить легенду\n",
    "plt.legend(('♥'), loc = (0.85, 0.5))\n",
    "\n",
    "# Показать график.\n",
    "plt.show()"
   ]
  },
  {
   "cell_type": "code",
   "execution_count": 192,
   "metadata": {},
   "outputs": [
    {
     "name": "stdout",
     "output_type": "stream",
     "text": [
      "{2019: 2, 2018: 2, 2017: 1}\n"
     ]
    }
   ],
   "source": [
    "#комментарии\n",
    " \n",
    "import csv\n",
    "\n",
    "with open('lab_SEA.txt', 'r', encoding = 'utf8') as file:\n",
    "    line = csv.reader(file)\n",
    "    comments = dict()\n",
    "    lst = []\n",
    "\n",
    "    \n",
    "    for i in line:\n",
    "        if i[0] == 'Дата':\n",
    "            continue\n",
    "        else:\n",
    "            year = int(i[0].split('.')[2])\n",
    "            x = int(i[4])\n",
    "            \n",
    "            if (i[1] == 'feedback') & (i[2] == 'Комментарии'):\n",
    "                if year in comments:\n",
    "                    lst.append(x)\n",
    "                    comments[year] = sum(lst)\n",
    "                else:\n",
    "                    lst.clear()\n",
    "                    lst.append(x)\n",
    "                    comments[year] = sum(lst)\n",
    "            \n",
    "    print(comments)"
   ]
  },
  {
   "cell_type": "code",
   "execution_count": 220,
   "metadata": {},
   "outputs": [
    {
     "data": {
      "image/png": "[encoded data removed]",
      "text/plain": [
       "<Figure size 432x288 with 1 Axes>"
      ]
     },
     "metadata": {
      "needs_background": "light"
     },
     "output_type": "display_data"
    }
   ],
   "source": [
    "import matplotlib.pyplot as plt\n",
    "%matplotlib inline\n",
    "\n",
    "left_edges = list(comments.keys())\n",
    "\n",
    "# Создать список с высотами каждого столбика.\n",
    "heights = list(comments.values())\n",
    "\n",
    "# Создать переменную для ширины столбика.\n",
    "bar_width = 0.8\n",
    "\n",
    "# Построить столбчатую диаграмму.\n",
    "plt.bar(left_edges, heights, bar_width, color = 'mediumpurple')\n",
    "\n",
    "# Добавить заголовок.\n",
    "plt.title('Комментарии в группе VK')\n",
    "\n",
    "# Добавить на оси описательные метки.\n",
    "plt.xlabel('Год')\n",
    "plt.ylabel('Количество')\n",
    "\n",
    "plt.xlim(xmin=2015.5, xmax=2020.5)\n",
    "plt.ylim(ymin=0, ymax=10)\n",
    "\n",
    "# Показать график.\n",
    "plt.show()"
   ]
  },
  {
   "cell_type": "code",
   "execution_count": 193,
   "metadata": {},
   "outputs": [
    {
     "name": "stdout",
     "output_type": "stream",
     "text": [
      "{2019: 2, 2016: 1}\n"
     ]
    }
   ],
   "source": [
    "#репосты\n",
    " \n",
    "import csv\n",
    "\n",
    "with open('lab_SEA.txt', 'r', encoding = 'utf8') as file:\n",
    "    line = csv.reader(file)\n",
    "    reposts = dict()\n",
    "    lst = []\n",
    "\n",
    "    \n",
    "    for i in line:\n",
    "        if i[0] == 'Дата':\n",
    "            continue\n",
    "        else:\n",
    "            year = int(i[0].split('.')[2])\n",
    "            x = int(i[4])\n",
    "            \n",
    "            if (i[1] == 'feedback') & (i[2] == 'Рассказали друзьям'):\n",
    "                if year in reposts:\n",
    "                    lst.append(x)\n",
    "                    reposts[year] = sum(lst)\n",
    "                else:\n",
    "                    lst.clear()\n",
    "                    lst.append(x)\n",
    "                    reposts[year] = sum(lst)\n",
    "            \n",
    "    print(reposts)"
   ]
  },
  {
   "cell_type": "code",
   "execution_count": 221,
   "metadata": {},
   "outputs": [
    {
     "data": {
      "image/png": "[encoded data removed]",
      "text/plain": [
       "<Figure size 432x288 with 1 Axes>"
      ]
     },
     "metadata": {
      "needs_background": "light"
     },
     "output_type": "display_data"
    }
   ],
   "source": [
    "import matplotlib.pyplot as plt\n",
    "%matplotlib inline\n",
    "\n",
    "left_edges = list(reposts.keys())\n",
    "\n",
    "# Создать список с высотами каждого столбика.\n",
    "heights = list(reposts.values())\n",
    "\n",
    "# Создать переменную для ширины столбика.\n",
    "bar_width = 0.8\n",
    "\n",
    "# Построить столбчатую диаграмму.\n",
    "plt.bar(left_edges, heights, bar_width, color = 'palegreen')\n",
    "\n",
    "# Добавить заголовок.\n",
    "plt.title('Репосты в группе VK')\n",
    "\n",
    "# Добавить на оси описательные метки.\n",
    "plt.xlabel('Год')\n",
    "plt.ylabel('Количество')\n",
    "\n",
    "plt.xlim(xmin=2015.5, xmax=2020.5)\n",
    "plt.ylim(ymin = 0, ymax = 10)\n",
    "\n",
    "# Показать график.\n",
    "plt.show()"
   ]
  },
  {
   "cell_type": "code",
   "execution_count": 224,
   "metadata": {},
   "outputs": [
    {
     "data": {
      "image/png": "[encoded data removed]",
      "text/plain": [
       "<Figure size 432x288 with 1 Axes>"
      ]
     },
     "metadata": {
      "needs_background": "light"
     },
     "output_type": "display_data"
    }
   ],
   "source": [
    "#на графике все показатели обратной связи сразу\n",
    "import matplotlib.pyplot as plt\n",
    "\n",
    "%matplotlib inline\n",
    "\n",
    "x1 = list(likes.keys())\n",
    "y1 = list(likes.values())\n",
    "\n",
    "x2 = list(comments.keys())\n",
    "y2 = list(comments.values())\n",
    "\n",
    "x3 = list(reposts.keys())\n",
    "y3 = list(reposts.values())\n",
    "\n",
    "# Добавить заголовок.\n",
    "plt.title('Обратная связь в группе VK')\n",
    "\n",
    "\n",
    "# Добавить на оси описательные метки.\n",
    "plt.xlabel('Год')\n",
    "plt.ylabel('Количество')\n",
    "\n",
    "# Построить график.\n",
    "plt.plot(x1, y1, x2, y2, x3, y3)\n",
    "\n",
    "plt.xlim(xmin=2015.5, xmax=2020.5)\n",
    "\n",
    "\n",
    "#Добавить легенду\n",
    "plt.legend(('Нравится', 'Комментарии', 'Репосты'))\n",
    "\n",
    "# Показать график.\n",
    "plt.show()"
   ]
  },
  {
   "cell_type": "markdown",
   "metadata": {},
   "source": [
    "### Выводы по заданию 4\n",
    "Очевидно, что отметок \"Нравится\" в абсолютном значении больше, чем комментариев и репостов: они требуют от пользователя меньше усилий. Так что именно их можно рассматривать как показатель активности аудитории. То есть можно сделать вывод, что за рассматриваемый промежуток времени наблюдается ***рост активности аудитории***, 2020 год как неполный не учитывается. \n",
    "\n",
    "## Задание 5\n",
    "\n",
    "Необходимо обосновать, подходит ли данная группа для продвижения нового товара среди активных пользователей из России моложе 30 лет.\n",
    "\n",
    "Здесь нужно обратить внимание на 3 ключевых пункта данного утверждения, связанных с целевой аудиторией:\n",
    "\n",
    " * активные; \n",
    " * из России;\n",
    " * моложе 30 лет.\n",
    " \n",
    "**Моложе 30 лет**\n",
    "\n",
    "В период с 2016 по 2020 год младше 30 лет оказалось 74% посетителей. Да, подходит.\n",
    "\n",
    "**Из России**\n",
    "\n",
    "В период с 2016 по 2020 год 89% пользователей было из России (на графике были убраны метки данных). Да, подходит.\n",
    "\n",
    "**Активные**\n",
    "\n",
    "Пожалуй, здесь сложно ответить однозначно, посколько все зависит от того, что мы понимаем под *активностью*. Тем не менее, за рассматриваемый период времени (без учета 2020 года как неполного) наблюдался рост посещаемости группы, рост числа отметок \"Нравится\" — показателя обратной связи. Так что можно сделать вывод, что и с точки зрения этого парматера группа подходит для продвижения нового продукта.\n",
    "\n",
    "### Вывод по заданию 5\n",
    "Основываясь на данных, можно предположить, что данная группа подходит для продвижения нового продукта. Однако подобный анализ можно считать только комплементарным, поскольку он основан исключительно на количественных показателях. Для окончательного вывода необходима также качественная оценка целевой аудитории группы."
   ]
  },
  {
   "cell_type": "code",
   "execution_count": null,
   "metadata": {},
   "outputs": [],
   "source": []
  }
 ],
 "metadata": {
  "kernelspec": {
   "display_name": "Python 3",
   "language": "python",
   "name": "python3"
  },
  "language_info": {
   "codemirror_mode": {
    "name": "ipython",
    "version": 3
   },
   "file_extension": ".py",
   "mimetype": "text/x-python",
   "name": "python",
   "nbconvert_exporter": "python",
   "pygments_lexer": "ipython3",
   "version": "3.7.4"
  }
 },
 "nbformat": 4,
 "nbformat_minor": 4
}
