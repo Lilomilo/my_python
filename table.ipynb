{
 "cells": [
  {
   "cell_type": "code",
   "execution_count": 4,
   "metadata": {},
   "outputs": [
    {
     "name": "stdin",
     "output_type": "stream",
     "text": [
      "Введите атомный номер элемента:  0\n"
     ]
    },
    {
     "name": "stdout",
     "output_type": "stream",
     "text": [
      "H\n"
     ]
    }
   ],
   "source": [
    "\n",
    "value = float(input(\"Введите атомный номер элемента: \"))\n",
    "\n",
    "if value >=0 :\n",
    "    pH = float(value)\n",
    "    if pH == 0:\n",
    "        print(\"H\")\n",
    "    elif pH == 1:\n",
    "        print(\"He\")\n",
    "else:\n",
    "    print(\"Введите атомный номер элемента! \")\n",
    "    \n",
    "##не хочется так все 103 элемента проверять"
   ]
  },
  {
   "cell_type": "code",
   "execution_count": null,
   "metadata": {},
   "outputs": [],
   "source": []
  }
 ],
 "metadata": {
  "kernelspec": {
   "display_name": "Python 3",
   "language": "python",
   "name": "python3"
  },
  "language_info": {
   "codemirror_mode": {
    "name": "ipython",
    "version": 3
   },
   "file_extension": ".py",
   "mimetype": "text/x-python",
   "name": "python",
   "nbconvert_exporter": "python",
   "pygments_lexer": "ipython3",
   "version": "3.7.4"
  }
 },
 "nbformat": 4,
 "nbformat_minor": 4
}
