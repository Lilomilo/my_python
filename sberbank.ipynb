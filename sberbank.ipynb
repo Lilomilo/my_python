{
 "cells": [
  {
   "cell_type": "code",
   "execution_count": null,
   "metadata": {},
   "outputs": [],
   "source": []
  },
  {
   "cell_type": "code",
   "execution_count": 6,
   "metadata": {},
   "outputs": [
    {
     "name": "stdout",
     "output_type": "stream",
     "text": [
      "[['Средние траты в ресторане', 'Кировская область', '2017-01-15', '934'], ['Средние траты в ресторане', 'Кировская область', '2017-02-15', '904'], ['Средние траты в ресторане', 'Кировская область', '2017-03-15', '924'], ['Средние траты в ресторане', 'Кировская область', '2017-04-15', '926'], ['Средние траты в ресторане', 'Кировская область', '2017-05-15', '908'], ['Средние траты в ресторане', 'Кировская область', '2017-06-15', '929'], ['Средние траты в ресторане', 'Кировская область', '2017-07-15', '970'], ['Средние траты в ресторане', 'Кировская область', '2017-08-15', '970'], ['Средние траты в ресторане', 'Кировская область', '2017-09-15', '959'], ['Средние траты в ресторане', 'Кировская область', '2017-10-15', '944'], ['Средние траты в ресторане', 'Кировская область', '2017-11-15', '946'], ['Средние траты в ресторане', 'Кировская область', '2017-12-15', '1007']]\n"
     ]
    }
   ],
   "source": [
    "import csv\n",
    "\n",
    "with open('opendata.stat', 'r', encoding = 'utf8') as file:\n",
    "    lines = csv.reader(file)\n",
    "    \n",
    "    exp = []\n",
    "    \n",
    "    for i in lines:\n",
    "        if i[0] == 'Средние траты в ресторане' and i[1] == 'Кировская область' and i[2].split('-')[0] == '2017':\n",
    "            exp.append(i)\n",
    "    print(exp)"
   ]
  },
  {
   "cell_type": "code",
   "execution_count": 14,
   "metadata": {},
   "outputs": [
    {
     "name": "stdout",
     "output_type": "stream",
     "text": [
      "943.4166666666666\n"
     ]
    }
   ],
   "source": [
    "summa = 0\n",
    "\n",
    "for i in exp:\n",
    "    summa = summa + int(i[3])\n",
    "    \n",
    "print(summa/12)\n",
    "    "
   ]
  },
  {
   "cell_type": "code",
   "execution_count": 18,
   "metadata": {},
   "outputs": [
    {
     "name": "stdout",
     "output_type": "stream",
     "text": [
      "943.4166666666666\n"
     ]
    }
   ],
   "source": [
    "summa = dict()\n",
    "\n",
    "for i in exp:\n",
    "    summa[i[2]] = int(i[3])\n",
    "print(sum(summa.values())/12)"
   ]
  },
  {
   "cell_type": "code",
   "execution_count": 19,
   "metadata": {},
   "outputs": [
    {
     "data": {
      "image/png": "[encoded data removed]",
      "text/plain": [
       "<Figure size 432x288 with 1 Axes>"
      ]
     },
     "metadata": {
      "needs_background": "light"
     },
     "output_type": "display_data"
    }
   ],
   "source": [
    "import numpy as np\n",
    "\n",
    "import matplotlib.pyplot as plt\n",
    "%matplotlib inline\n",
    "\n",
    "x_coords = list(summa.keys())\n",
    "y_coords = list(summa.values())\n",
    "\n",
    "# Построить график.\n",
    "plt.plot(x_coords, y_coords)\n",
    "\n",
    "# Показать график.\n",
    "plt.show()"
   ]
  },
  {
   "cell_type": "code",
   "execution_count": null,
   "metadata": {},
   "outputs": [],
   "source": []
  }
 ],
 "metadata": {
  "kernelspec": {
   "display_name": "Python 3",
   "language": "python",
   "name": "python3"
  },
  "language_info": {
   "codemirror_mode": {
    "name": "ipython",
    "version": 3
   },
   "file_extension": ".py",
   "mimetype": "text/x-python",
   "name": "python",
   "nbconvert_exporter": "python",
   "pygments_lexer": "ipython3",
   "version": "3.7.4"
  }
 },
 "nbformat": 4,
 "nbformat_minor": 4
}
