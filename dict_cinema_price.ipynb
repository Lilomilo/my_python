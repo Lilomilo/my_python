{
 "cells": [
  {
   "cell_type": "code",
   "execution_count": 19,
   "metadata": {},
   "outputs": [],
   "source": [
    "##Скидки суммируются\n",
    "\n",
    "cinema = dict()\n",
    "\n",
    "cinema = {'Паразиты': {'time_price': {12: 250, 16: 350, 20: 450}},\n",
    "         '1917': {'time_price': {10: 250, 13: 350, 16: 350}},\n",
    "         'Соник в кино': {'time_price': {10: 350, 14: 450, 18: 450}}\n",
    "         }"
   ]
  },
  {
   "cell_type": "code",
   "execution_count": 26,
   "metadata": {},
   "outputs": [
    {
     "data": {
      "text/plain": [
       "350"
      ]
     },
     "execution_count": 26,
     "metadata": {},
     "output_type": "execute_result"
    }
   ],
   "source": [
    "film = '1917'\n",
    "t = 16\n",
    "cinema[film]['time_price'][t]"
   ]
  },
  {
   "cell_type": "code",
   "execution_count": 29,
   "metadata": {},
   "outputs": [
    {
     "name": "stdin",
     "output_type": "stream",
     "text": [
      "Введите фильм Паразиты\n",
      "Введите число людей 12\n",
      "Введите день - сегодня или завтра сегодня\n",
      "Введите сеанс 12\n"
     ]
    },
    {
     "name": "stdout",
     "output_type": "stream",
     "text": [
      "250\n"
     ]
    }
   ],
   "source": [
    "film = input('Введите фильм')\n",
    "n = int(input('Введите число людей'))\n",
    "date = input('Введите день - сегодня или завтра')\n",
    "time = int(input('Введите сеанс'))\n",
    "\n",
    "if (n >= 20) & (date == 'завтра'):\n",
    "    print(cinema[film]['time_price'][time]*0.95*0.80)\n",
    "elif (n >=20) & (date == 'сегодня'):\n",
    "    print(cinema[film]['time_price'][time]*0.80)\n",
    "elif (n < 20) & (date == 'завтра'):\n",
    "    print(cinema[film]['time_price'][time]*0.95)\n",
    "elif (n < 20) & (date == 'сегодня'):    \n",
    "    print(cinema[film]['time_price'][time])\n",
    "else:\n",
    "    print('Ошибка')"
   ]
  },
  {
   "cell_type": "code",
   "execution_count": null,
   "metadata": {},
   "outputs": [],
   "source": []
  },
  {
   "cell_type": "code",
   "execution_count": null,
   "metadata": {},
   "outputs": [],
   "source": []
  }
 ],
 "metadata": {
  "kernelspec": {
   "display_name": "Python 3",
   "language": "python",
   "name": "python3"
  },
  "language_info": {
   "codemirror_mode": {
    "name": "ipython",
    "version": 3
   },
   "file_extension": ".py",
   "mimetype": "text/x-python",
   "name": "python",
   "nbconvert_exporter": "python",
   "pygments_lexer": "ipython3",
   "version": "3.7.4"
  }
 },
 "nbformat": 4,
 "nbformat_minor": 4
}
