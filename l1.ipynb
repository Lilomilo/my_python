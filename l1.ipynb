{
 "cells": [
  {
   "cell_type": "code",
   "execution_count": 1,
   "metadata": {},
   "outputs": [
    {
     "name": "stdout",
     "output_type": "stream",
     "text": [
      "{'30-35': None, '24-27': None, '27-30': None, '35-45': None, '1-18': None, '21-24': None, '18-21': None, '45+': None}\n"
     ]
    }
   ],
   "source": [
    "import csv\n",
    "    \n",
    "with open('lab_SEA.txt', 'r', encoding = 'utf8') as file:\n",
    "    line = csv.reader(file)\n",
    "    age = dict() \n",
    "    x = []\n",
    "    \n",
    "    for i in line:\n",
    "        if i[0] == 'Дата':\n",
    "            continue\n",
    "        else:\n",
    "            if i[1] == 'age':\n",
    "                x = i[2]\n",
    "                if (x not in age):\n",
    "                    age.setdefault(x)\n",
    "                else:\n",
    "                    continue\n",
    "    print(age)"
   ]
  },
  {
   "cell_type": "code",
   "execution_count": 2,
   "metadata": {},
   "outputs": [
    {
     "ename": "SyntaxError",
     "evalue": "invalid syntax (<ipython-input-2-4d28ab26e979>, line 12)",
     "output_type": "error",
     "traceback": [
      "\u001b[1;36m  File \u001b[1;32m\"<ipython-input-2-4d28ab26e979>\"\u001b[1;36m, line \u001b[1;32m12\u001b[0m\n\u001b[1;33m    _age[category] = sum(x)\u001b[0m\n\u001b[1;37m       ^\u001b[0m\n\u001b[1;31mSyntaxError\u001b[0m\u001b[1;31m:\u001b[0m invalid syntax\n"
     ]
    }
   ],
   "source": [
    "import csv\n",
    "\n",
    "with open('lab_SEA.txt', 'r', encoding = 'utf8') as file:\n",
    "    line = csv.reader(file)\n",
    "    _age = dict()\n",
    "\n",
    "    for category in age.keys():\n",
    "        x = []\n",
    "        for i in line:\n",
    "            if (i[1] == 'age') & (category == i[2]):\n",
    "                x.append(int(i[4])\n",
    "            _age[category] = sum(x)\n",
    "                \n",
    "    print(_age)"
   ]
  },
  {
   "cell_type": "code",
   "execution_count": null,
   "metadata": {},
   "outputs": [],
   "source": []
  }
 ],
 "metadata": {
  "kernelspec": {
   "display_name": "Python 3",
   "language": "python",
   "name": "python3"
  },
  "language_info": {
   "codemirror_mode": {
    "name": "ipython",
    "version": 3
   },
   "file_extension": ".py",
   "mimetype": "text/x-python",
   "name": "python",
   "nbconvert_exporter": "python",
   "pygments_lexer": "ipython3",
   "version": "3.7.4"
  }
 },
 "nbformat": 4,
 "nbformat_minor": 4
}
