{
 "cells": [
  {
   "cell_type": "markdown",
   "metadata": {},
   "source": [
    "## Лабораторная работа 1"
   ]
  },
  {
   "cell_type": "markdown",
   "metadata": {},
   "source": [
    "Вы - сотрудник отдела аналитики крупной компании.\n",
    "\n",
    "Ваша компания занимается продвижением товаров и услуг в соцсетях: ВКонтакте, Facebook, Instagram и TikTok.\n",
    "\n",
    "Руководитель отдела в курсе, что Вы знаете стандартный язык Python и доверил Вам анализ группы в соцсети.\n",
    "Это одна из групп, которую вскоре планируется задействовать для продвижения нового товара.\n",
    "\n",
    "Руководитель просит предоставить наглядный отчет в Jupyter Notebook с графиками.\n",
    "\n",
    "Детали отчета остаются на Ваше усмотрение.\n",
    "\n",
    "Задачи, которые сформулировал руководитель:\n",
    "\n",
    "1) определить статистику посещаемости группы (просмотры/посещения в год); \n",
    "\n",
    "2) провести анализ охвата аудитории (reach/reach_subscribers);\n",
    "\n",
    "3) провести анализ демографии (пол - gender, возраст аудитории - age, gender_age, страна - countries);\n",
    "\n",
    "4) провести анализ обратной связи.\n",
    "\n",
    "5) обосновать, подходит ли данная группа для продвижения нового товара среди активных пользователей из России моложе 30 лет?\n",
    "\n",
    "До старта рекламной кампании остается совсем немного времни. "
   ]
  },
  {
   "cell_type": "markdown",
   "metadata": {},
   "source": [
    "**ВНИМАНИЕ**: про данные статистики ВК [тут](https://vk.com/dev/objects/stats_format), про виральный охватат [тут](https://vk.com/@adminsclub-viral-reach)"
   ]
  },
  {
   "cell_type": "markdown",
   "metadata": {},
   "source": [
    "## Требования и ограничения в процессе выполнения лабораторной работы 1\n",
    "\n",
    "- задание по вариантам, таблица распределения вариантов по [этой ссылке](https://docs.google.com/spreadsheets/d/1JeeslViBGwnOQeHgoohp9-8cqZ65Zt2sJ5hi1VPpCa8/edit?usp=sharing) \n",
    "- необходимо провести анализ данных по каждой задаче и сделать выводы на основе полученных результатов;\n",
    "- за решение каждой задачи с графиками и комментариями в формате [markdown](https://github.com/adam-p/markdown-here/wiki/Markdown-Cheatsheet) и [формулами](https://gtribello.github.io/mathNET/assets/notebook-writing.html) начисляется по 7 баллов;\n",
    "- минус 3 балла за нарушение сроков сдачи работы;\n",
    "- одинаковых работ быть не может, т.к. детали аналитики и виды графиков - индивидуальный выбор студента;\n",
    "- cписывание отклоняю в любом виде;\n",
    "- отразить в Jupyter Notebook все промежуточные вычисления по шагам, как мы это делали на занятии."
   ]
  },
  {
   "cell_type": "code",
   "execution_count": null,
   "metadata": {},
   "outputs": [],
   "source": []
  }
 ],
 "metadata": {
  "kernelspec": {
   "display_name": "Python 3",
   "language": "python",
   "name": "python3"
  },
  "language_info": {
   "codemirror_mode": {
    "name": "ipython",
    "version": 3
   },
   "file_extension": ".py",
   "mimetype": "text/x-python",
   "name": "python",
   "nbconvert_exporter": "python",
   "pygments_lexer": "ipython3",
   "version": "3.7.3"
  }
 },
 "nbformat": 4,
 "nbformat_minor": 4
}
