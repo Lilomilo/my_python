
#to do list
from pprint import pprint

to_do = dict()
i = 0

while True:
    command = input('Введите тип команды: x - добавить в словарь, y - вывести словарь на экран, z - выйти из списка задач')
  
    if command.lower() == 'z':
        break
        
    elif command.lower() == 'y':
        pprint(to_do)
        
    elif command.lower() == 'x':
            name = input('Введите название задачи: ')
            category = input('Введите тип задачи: ')
            time = input('Введите дату выполнения: ')
            
            to_do[i] = {'name': name, 'category' : category, 'time': time}
            
            i = i + 1
