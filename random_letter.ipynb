{
 "cells": [
  {
   "cell_type": "code",
   "execution_count": 4,
   "metadata": {},
   "outputs": [],
   "source": [
    "slova = ['зима', 'весна', 'лето', 'зима']\n",
    "\n",
    "import random\n",
    "\n",
    "x = random.choice(random.choice(slova))\n",
    "\n",
    "y = input('Введите букву, которая есть в названии времен года: \\n')\n",
    "\n",
    "if x == y:\n",
    "    print('Вы победили, компьютер загадал букву', y)\n",
    "else:\n",
    "    print('Вы проиграли, компьютер загадал букву', y)\n",
    "    \n",
    "    \n"
   ]
  },
  {
   "cell_type": "code",
   "execution_count": null,
   "metadata": {},
   "outputs": [],
   "source": []
  }
 ],
 "metadata": {
  "kernelspec": {
   "display_name": "Python 3",
   "language": "python",
   "name": "python3"
  },
  "language_info": {
   "codemirror_mode": {
    "name": "ipython",
    "version": 3
   },
   "file_extension": ".py",
   "mimetype": "text/x-python",
   "name": "python",
   "nbconvert_exporter": "python",
   "pygments_lexer": "ipython3",
   "version": "3.7.4"
  }
 },
 "nbformat": 4,
 "nbformat_minor": 4
}
